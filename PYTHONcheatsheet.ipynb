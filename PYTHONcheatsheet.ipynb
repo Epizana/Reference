{
 "cells": [
  {
   "cell_type": "markdown",
   "metadata": {},
   "source": [
    "<p><a name=\"sections\"></a></p>\n",
    "\n",
    "\n",
    "# Python Cheatsheet\n",
    "- <a href=\"#python tools\">**I. Python Tools**</a>  \n",
    "  - <a href=\"#boolean\">**Boolean** Checks</a>\n",
    "  - <a href=\"#lambda\">**Lambda** Functions and Named Functions</a>\n",
    "  - <a href=\"#modules\">Making and Using **Modules**</a>\n",
    "  - <a href=\"#lists\">**Lists and List Operations**</a>\n",
    "    - <a href=\"#listsrandom\">**Randomly retrieving items** from a list: **random.choices()**</a>\n",
    "    - <a href=\"#listszip\">**Zipping** lists together</a>\n",
    "    - <a href=\"#lists+\">**Adding** things to lists</a>\n",
    "      - <a href=\"#listsefficient\">**List Efficiency** Optimized Ways to Grow a List</a>\n",
    "    - <a href=\"#lists-\">**Removing** things from lists</a>\n",
    "    - <a href=\"#listscontents\">**Information** on list contents</a>\n",
    "    - <a href=\"#listsarrangement\">**Arranging** list contents</a>\n",
    "    - <a href=\"#listsiterations\">**Iterating** through list contents</a>\n",
    "    - <a href=\"#listsmap\">**Applying a function** on each list element: **map**</a>\n",
    "    - <a href=\"#listsfilter\">**Filtering** based on some condition: **filter**</a>\n",
    "  - <a href=\"#strings\">**Strings and String Operations**</a>\n",
    "    - <a href=\"#stringfind\">**Finding** a substring</a>\n",
    "    - <a href=\"#stringescapes\">**Adding spaces and escape characters** to strings</a>\n",
    "    - <a href=\"#stringlist\">**Converting** between lists and strings</a>\n",
    "    - <a href=\"#stringjoin\">**Combining** strings with **join**</a>\n",
    "    - <a href=\"#stringreplace\">**Replacing** with **replace**</a>\n",
    "    - <a href=\"#prefix\">**Adding a PREFIX or SUFFIX** with list comprehension</a>\n",
    "  - <a href=\"#loops\">**FOR** and **WHILE** loops</a>\n",
    "    - <a href=\"#enumerate\">**return index and element**</a>\n",
    "- <a href=\"#numpy\">**III. Numpy**</a>\n",
    "  - <a href=\"#Random\">**Random Generators**</a>\n",
    "  - <a href=\"#numspace\">Creating an array of numbers **spaced over a certain interval**</a>\n",
    "- <a href=\"#machine learning\">**V. Machine Learning**</a>"
   ]
  },
  {
   "cell_type": "markdown",
   "metadata": {},
   "source": [
    "### <p><a name=\"python tools\"></a></p>\n",
    "# I. Python Tools"
   ]
  },
  {
   "cell_type": "markdown",
   "metadata": {},
   "source": [
    "###### This will be a brief overview of Python tools that I need. Machine learning-specific Code will be in section II."
   ]
  },
  {
   "cell_type": "markdown",
   "metadata": {},
   "source": [
    "###### <p><a name=\"boolean\"></a></p>\n",
    "### Boolean Checks"
   ]
  },
  {
   "cell_type": "markdown",
   "metadata": {},
   "source": [
    "To confirm whether or not 2 lists point to the same object/memory address, call\n",
    "\n",
    "```python\n",
    "     a is b\n",
    " ```\n",
    " \n",
    " **for strings, a is c will return true!!**"
   ]
  },
  {
   "cell_type": "code",
   "execution_count": 66,
   "metadata": {},
   "outputs": [],
   "source": [
    "a = b = [1,2,3]\n",
    "c = [1,2,3]"
   ]
  },
  {
   "cell_type": "code",
   "execution_count": 67,
   "metadata": {},
   "outputs": [
    {
     "name": "stdout",
     "output_type": "stream",
     "text": [
      "True\n",
      "True\n",
      "False\n"
     ]
    }
   ],
   "source": [
    "#a = b\n",
    "print(a == b)\n",
    "print(a == c)\n",
    "print(a is c)"
   ]
  },
  {
   "cell_type": "markdown",
   "metadata": {},
   "source": [
    "###### <p><a name=\"lambda\"></a></p>\n",
    "### Lambda Functions and Named Functions"
   ]
  },
  {
   "cell_type": "code",
   "execution_count": 1,
   "metadata": {},
   "outputs": [],
   "source": [
    "import math\n",
    "\n",
    "#regular notation\n",
    "def vector_length(x, y):\n",
    "    return math.sqrt(x**2 + y**2)\n",
    "\n",
    "#lambda notation\n",
    "\n",
    "Vector_length = lambda x, y: math.sqrt(x**2 + y**2)"
   ]
  },
  {
   "cell_type": "markdown",
   "metadata": {},
   "source": [
    "###### <p><a name=\"modules\"></a></p>\n",
    "### Making and using Modules"
   ]
  },
  {
   "cell_type": "markdown",
   "metadata": {},
   "source": [
    "**Autoreload**: this will reload my modules before executing the code. I need this when the module is updated, so that when the function is called, it reflects the latest version of the module (with changes)\n",
    "\n",
    "```python\n",
    "    %load_ext autoreload\n",
    "    %autoreload 2\n",
    "    ```"
   ]
  },
  {
   "cell_type": "markdown",
   "metadata": {},
   "source": [
    "**Wrap my function in Python module**\n",
    "\n",
    "1. Make a .py file which I'll use as a Python module.\n",
    "2. Define functions I'll want to use later and call the function by importing the module.\n",
    "\n",
    "For example, create a file called `my_module.py` in the same folder of my iPython notebook. Make a function in `my_module.py`.\n",
    "\n",
    "    \n",
    "    def my_function(x):\n",
    "        return x*2\n",
    "    \n",
    "3. call it by using this code(1st line for importing only 1 function, 2nd line for all):\n",
    "\n",
    "    ```python\n",
    "    from my_module import my_function\n",
    "    from my_module import*\n",
    "    ```\n",
    "    \n"
   ]
  },
  {
   "cell_type": "markdown",
   "metadata": {},
   "source": [
    "###### <p><a name=\"lists\"></a></p>\n",
    "### List Operations and Functions"
   ]
  },
  {
   "cell_type": "markdown",
   "metadata": {},
   "source": [
    "###### <p><a name=\"listsrandom\"></a></p>\n",
    "**Sampling Randomly** from a list: **generating a random item from a list with `random.sample()`**\n",
    "\n",
    "```python\n",
    "random.choices(sequence,k = nubmer of items to return from the sequence)\n",
    "```"
   ]
  },
  {
   "cell_type": "code",
   "execution_count": 105,
   "metadata": {},
   "outputs": [
    {
     "data": {
      "text/plain": [
       "['Photo', 'Comment', 'Comment', 'Photo', 'Post', 'Share', 'Post']"
      ]
     },
     "execution_count": 105,
     "metadata": {},
     "output_type": "execute_result"
    }
   ],
   "source": [
    "import random\n",
    "random.choices(['Post','Comment','Photo','Share'],k = 7)"
   ]
  },
  {
   "cell_type": "markdown",
   "metadata": {},
   "source": [
    "###### <p><a name=\"listszip\"></a></p>\n",
    "**Zipping** lists together: **combining lists with `zip()`**"
   ]
  },
  {
   "cell_type": "code",
   "execution_count": 2,
   "metadata": {},
   "outputs": [
    {
     "data": {
      "text/plain": [
       "[(1, 5), (2, 6), (3, 7), (4, 8)]"
      ]
     },
     "execution_count": 2,
     "metadata": {},
     "output_type": "execute_result"
    }
   ],
   "source": [
    "a = [1, 2, 3, 4]\n",
    "b = [5, 6, 7, 8]\n",
    "c = list(zip(a, b))\n",
    "c"
   ]
  },
  {
   "cell_type": "code",
   "execution_count": 8,
   "metadata": {},
   "outputs": [
    {
     "name": "stdout",
     "output_type": "stream",
     "text": [
      "[1, 2, 3, 4]\n",
      "[5, 6, 7, 8]\n",
      "[(1, 2, 3, 4), (5, 6, 7, 8)]\n"
     ]
    }
   ],
   "source": [
    "#unzipping back into separate lists\n",
    "d = list(zip(*c)) #unzipping the list makes it a list of tupples.\n",
    "e = list(d[0])\n",
    "f = list(d[1])\n",
    "print(e,f,d, sep = '\\n')"
   ]
  },
  {
   "cell_type": "markdown",
   "metadata": {},
   "source": [
    "###### <p><a name=\"lists+\"></a></p>\n",
    "**Adding** things to a list: **list concatenation with +**"
   ]
  },
  {
   "cell_type": "code",
   "execution_count": 17,
   "metadata": {},
   "outputs": [
    {
     "data": {
      "text/plain": [
       "['Optimus Prime',\n",
       " 'Omega Supreme',\n",
       " 'Grimlock',\n",
       " 'Tracks',\n",
       " 'Mirage',\n",
       " 'Megatron',\n",
       " 'Devastator',\n",
       " 'Shockwave',\n",
       " 'Thrust',\n",
       " 'Skywarp']"
      ]
     },
     "execution_count": 17,
     "metadata": {},
     "output_type": "execute_result"
    }
   ],
   "source": [
    "autobots = ['Optimus Prime', 'Omega Supreme','Grimlock','Tracks','Mirage']\n",
    "decepticons = ['Megatron','Devastator','Shockwave','Thrust','Skywarp']\n",
    "\n",
    "autobots + decepticons"
   ]
  },
  {
   "cell_type": "markdown",
   "metadata": {},
   "source": [
    "**Adding** things to a list: **`.append()` method**, MUTATING"
   ]
  },
  {
   "cell_type": "code",
   "execution_count": 11,
   "metadata": {},
   "outputs": [
    {
     "data": {
      "text/plain": [
       "['Optimus Prime', 'Omega Supreme', 'Grimlock', 'Tracks', 'Mirage', 'Sky Lynx']"
      ]
     },
     "execution_count": 11,
     "metadata": {},
     "output_type": "execute_result"
    }
   ],
   "source": [
    "autobots.append('Sky Lynx') #MUTATING\n",
    "autobots"
   ]
  },
  {
   "cell_type": "markdown",
   "metadata": {},
   "source": [
    "**Adding** things to a list: **`.insert()` method**, MUTATING"
   ]
  },
  {
   "cell_type": "code",
   "execution_count": 18,
   "metadata": {},
   "outputs": [
    {
     "data": {
      "text/plain": [
       "['Optimus Prime',\n",
       " 'Omega Supreme',\n",
       " 'Grimlock',\n",
       " 'Swoop',\n",
       " 'Tracks',\n",
       " 'Mirage',\n",
       " 'Sky Lynx']"
      ]
     },
     "execution_count": 18,
     "metadata": {},
     "output_type": "execute_result"
    }
   ],
   "source": [
    "autobots.insert(autobots.index('Tracks'),'Swoop')\n",
    "autobots"
   ]
  },
  {
   "cell_type": "markdown",
   "metadata": {},
   "source": [
    "**Adding** things to a list: **`.extend()` method**, MUTATING"
   ]
  },
  {
   "cell_type": "code",
   "execution_count": 18,
   "metadata": {},
   "outputs": [
    {
     "data": {
      "text/plain": [
       "['Megatron',\n",
       " 'Devastator',\n",
       " 'Shockwave',\n",
       " 'Thrust',\n",
       " 'Skywarp',\n",
       " 'Hook',\n",
       " 'Longhaul',\n",
       " 'Scrapper',\n",
       " 'Mixmaster',\n",
       " 'Bonecrusher',\n",
       " 'Scavenger']"
      ]
     },
     "execution_count": 18,
     "metadata": {},
     "output_type": "execute_result"
    }
   ],
   "source": [
    "decepticons.extend(['Hook','Longhaul','Scrapper','Mixmaster','Bonecrusher','Scavenger'])\n",
    "decepticons"
   ]
  },
  {
   "cell_type": "markdown",
   "metadata": {},
   "source": [
    "**Adding** things to a list: **LIST COMPREHENSION**"
   ]
  },
  {
   "cell_type": "code",
   "execution_count": 3,
   "metadata": {},
   "outputs": [
    {
     "data": {
      "text/plain": [
       "[0, 1, 2, 3, 4, 5, 6, 7, 8, 9, 10]"
      ]
     },
     "execution_count": 3,
     "metadata": {},
     "output_type": "execute_result"
    }
   ],
   "source": [
    "l = [i for i in range(11)]\n",
    "l"
   ]
  },
  {
   "cell_type": "markdown",
   "metadata": {},
   "source": [
    "==============================================================\n",
    "###### <p><a name=\"listsefficient\"></a></p>\n",
    "### Adding to Lists: Efficiency and Optimization"
   ]
  },
  {
   "cell_type": "code",
   "execution_count": 6,
   "metadata": {},
   "outputs": [],
   "source": [
    "#concatentation\n",
    "def test1():\n",
    "    l = []\n",
    "    for i in range(1000):\n",
    "        l = l + [i]\n",
    "\n",
    "#append\n",
    "def test2():\n",
    "    l = []\n",
    "    for i in range(1000):\n",
    "        l.append(i)\n",
    "\n",
    "#list comprehension        \n",
    "def test3():\n",
    "    l = [i for i in range(1000)]\n",
    "\n",
    "#initiating a range. Initiating a range is the most efficient, followed by list comprehension!!    \n",
    "def test4():\n",
    "    l = list(range(1000))"
   ]
  },
  {
   "cell_type": "code",
   "execution_count": 10,
   "metadata": {},
   "outputs": [
    {
     "name": "stdout",
     "output_type": "stream",
     "text": [
      "concat  0.9261318519993438 milliseconds\n",
      "append  0.06539415499992174 milliseconds\n",
      "comprehension  0.032425284999590076 milliseconds\n",
      "list range  0.013522391999686079 milliseconds\n"
     ]
    }
   ],
   "source": [
    "import timeit\n",
    "from timeit import Timer\n",
    "\n",
    "t1 = Timer(\"test1()\", \"from __main__ import test1\")\n",
    "print(\"concat \",t1.timeit(number=1000), \"milliseconds\")\n",
    "t2 = Timer(\"test2()\", \"from __main__ import test2\")\n",
    "print(\"append \",t2.timeit(number=1000), \"milliseconds\")\n",
    "t3 = Timer(\"test3()\", \"from __main__ import test3\")\n",
    "print(\"comprehension \",t3.timeit(number=1000), \"milliseconds\")\n",
    "t4 = Timer(\"test4()\", \"from __main__ import test4\")\n",
    "print(\"list range \",t4.timeit(number=1000), \"milliseconds\")"
   ]
  },
  {
   "cell_type": "markdown",
   "metadata": {},
   "source": [
    "An illustration of the time it takes to execute `pop()` from the beginning of the list\n",
    "vs. from the end of the list: End of the list is more efficient."
   ]
  },
  {
   "cell_type": "code",
   "execution_count": 12,
   "metadata": {},
   "outputs": [
    {
     "name": "stdout",
     "output_type": "stream",
     "text": [
      "0.818389271000342\n",
      "6.128799941507168e-05\n"
     ]
    }
   ],
   "source": [
    "popzero = Timer(\"x.pop(0)\",\n",
    "                       \"from __main__ import x\")\n",
    "\n",
    "popend = Timer(\"x.pop()\",\n",
    "                       \"from __main__ import x\")\n",
    "\n",
    "x = list(range(2000000)) #takes much longer\n",
    "print(popzero.timeit(number = 1000))\n",
    "\n",
    "x = list(range(2000000))\n",
    "print(popend.timeit(number = 1000))\n"
   ]
  },
  {
   "cell_type": "code",
   "execution_count": 6,
   "metadata": {},
   "outputs": [
    {
     "name": "stdout",
     "output_type": "stream",
     "text": [
      "3\n",
      "2\n",
      "1\n",
      "1\n",
      "1\n"
     ]
    }
   ],
   "source": [
    "a = [3,2,1,1,1]\n",
    "\n",
    "i = 0\n",
    "\n",
    "while i < (len(a)):\n",
    "    print(a[i])\n",
    "    i += 1\n",
    "\n"
   ]
  },
  {
   "cell_type": "code",
   "execution_count": 7,
   "metadata": {},
   "outputs": [
    {
     "name": "stdout",
     "output_type": "stream",
     "text": [
      "[3, 5, 6, 7, 8]\n"
     ]
    }
   ],
   "source": [
    "L = list(range(10))\n",
    "from itertools import accumulate\n",
    "\n",
    "test = accumulate(a)\n",
    "\n",
    "print(list(test))\n"
   ]
  },
  {
   "cell_type": "code",
   "execution_count": 9,
   "metadata": {},
   "outputs": [
    {
     "name": "stdout",
     "output_type": "stream",
     "text": [
      "[0, 1, 3, 6, 10, 15, 21, 28, 36, 45]\n",
      "[0, 1, 2, 3, 4, 5, 6, 7, 8, 9]\n",
      "4.5\n",
      "0.0\n"
     ]
    }
   ],
   "source": [
    "import numpy as np\n",
    "l=list(range(10))\n",
    "avg = np.mean(l)\n",
    "sum_ = accumulate(l)\n",
    "print(list(sum_))\n",
    "print(l)\n",
    "print(avg)\n",
    "diff = [v - avg for v in l]\n",
    "print(sum(diff))"
   ]
  },
  {
   "cell_type": "code",
   "execution_count": null,
   "metadata": {},
   "outputs": [],
   "source": []
  },
  {
   "cell_type": "markdown",
   "metadata": {},
   "source": [
    "========================================================================"
   ]
  },
  {
   "cell_type": "markdown",
   "metadata": {},
   "source": [
    "###### <p><a name=\"lists-\"></a></p>\n",
    "**Removing** things from a list: **list demotion with `.clear()`**"
   ]
  },
  {
   "cell_type": "code",
   "execution_count": 26,
   "metadata": {},
   "outputs": [
    {
     "data": {
      "text/plain": [
       "[]"
      ]
     },
     "execution_count": 26,
     "metadata": {},
     "output_type": "execute_result"
    }
   ],
   "source": [
    "autobots.clear()\n",
    "autobots"
   ]
  },
  {
   "cell_type": "markdown",
   "metadata": {},
   "source": [
    "**Removing** things from a list: **`.pop()` method** MUTATING with SIDE EFFECTS"
   ]
  },
  {
   "cell_type": "code",
   "execution_count": 20,
   "metadata": {},
   "outputs": [
    {
     "data": {
      "text/plain": [
       "'Scavenger'"
      ]
     },
     "execution_count": 20,
     "metadata": {},
     "output_type": "execute_result"
    }
   ],
   "source": [
    "decepticons.pop()"
   ]
  },
  {
   "cell_type": "markdown",
   "metadata": {},
   "source": [
    "**Removing** things from a list: **`.remove()` method** MUTATING"
   ]
  },
  {
   "cell_type": "code",
   "execution_count": 31,
   "metadata": {},
   "outputs": [
    {
     "data": {
      "text/plain": [
       "['Megatron',\n",
       " 'Shockwave',\n",
       " 'Thrust',\n",
       " 'Skywarp',\n",
       " 'Hook',\n",
       " 'Longhaul',\n",
       " 'Scrapper',\n",
       " 'Mixmaster',\n",
       " 'Bonecrusher']"
      ]
     },
     "execution_count": 31,
     "metadata": {},
     "output_type": "execute_result"
    }
   ],
   "source": [
    "decepticons.remove('Devastator')\n",
    "decepticons"
   ]
  },
  {
   "cell_type": "code",
   "execution_count": 116,
   "metadata": {},
   "outputs": [
    {
     "name": "stdout",
     "output_type": "stream",
     "text": [
      "Help on method_descriptor:\n",
      "\n",
      "remove(self, value, /)\n",
      "    Remove first occurrence of value.\n",
      "    \n",
      "    Raises ValueError if the value is not present.\n",
      "\n"
     ]
    }
   ],
   "source": [
    "help(list.remove)"
   ]
  },
  {
   "cell_type": "markdown",
   "metadata": {},
   "source": [
    "###### <p><a name=\"listscontents\"></a></p>\n",
    "**Information about list contents** counting occurances of a value: **`.count()` method** NON MUTATING"
   ]
  },
  {
   "cell_type": "code",
   "execution_count": 34,
   "metadata": {},
   "outputs": [
    {
     "data": {
      "text/plain": [
       "3"
      ]
     },
     "execution_count": 34,
     "metadata": {},
     "output_type": "execute_result"
    }
   ],
   "source": [
    "decept_ranks = [10,9,6,6,6,5,7,5,5]\n",
    "decept_ranks.count(6)"
   ]
  },
  {
   "cell_type": "markdown",
   "metadata": {},
   "source": [
    "**Information about list contents** finding the index location of a value: **`.index()` method** NON MUTATING"
   ]
  },
  {
   "cell_type": "code",
   "execution_count": 35,
   "metadata": {},
   "outputs": [
    {
     "data": {
      "text/plain": [
       "0"
      ]
     },
     "execution_count": 35,
     "metadata": {},
     "output_type": "execute_result"
    }
   ],
   "source": [
    "decept_ranks.index(10)"
   ]
  },
  {
   "cell_type": "markdown",
   "metadata": {},
   "source": [
    "###### <p><a name=\"listsarrangement\"></a></p>\n",
    "**Sorting** list contents: **`.sort()` method** MUTATING"
   ]
  },
  {
   "cell_type": "code",
   "execution_count": 40,
   "metadata": {},
   "outputs": [
    {
     "data": {
      "text/plain": [
       "['Bonecrusher',\n",
       " 'Hook',\n",
       " 'Longhaul',\n",
       " 'Megatron',\n",
       " 'Mixmaster',\n",
       " 'Scrapper',\n",
       " 'Shockwave',\n",
       " 'Skywarp',\n",
       " 'Thrust']"
      ]
     },
     "execution_count": 40,
     "metadata": {},
     "output_type": "execute_result"
    }
   ],
   "source": [
    "decepticons.sort()\n",
    "decepticons"
   ]
  },
  {
   "cell_type": "markdown",
   "metadata": {},
   "source": [
    "**Sorting** list contents: **sortED CALL `sorted()`** NON MUTATING"
   ]
  },
  {
   "cell_type": "code",
   "execution_count": 43,
   "metadata": {},
   "outputs": [
    {
     "data": {
      "text/plain": [
       "['Hook',\n",
       " 'Thrust',\n",
       " 'Skywarp',\n",
       " 'Longhaul',\n",
       " 'Megatron',\n",
       " 'Scrapper',\n",
       " 'Mixmaster',\n",
       " 'Shockwave',\n",
       " 'Bonecrusher']"
      ]
     },
     "execution_count": 43,
     "metadata": {},
     "output_type": "execute_result"
    }
   ],
   "source": [
    "sorted(decepticons, key = len)"
   ]
  },
  {
   "cell_type": "markdown",
   "metadata": {},
   "source": [
    "**Reversing order** of a list: **sortED CALL `sorted()`** NON MUTATING"
   ]
  },
  {
   "cell_type": "code",
   "execution_count": 45,
   "metadata": {},
   "outputs": [
    {
     "data": {
      "text/plain": [
       "['Bonecrusher',\n",
       " 'Mixmaster',\n",
       " 'Shockwave',\n",
       " 'Longhaul',\n",
       " 'Megatron',\n",
       " 'Scrapper',\n",
       " 'Skywarp',\n",
       " 'Thrust',\n",
       " 'Hook']"
      ]
     },
     "execution_count": 45,
     "metadata": {},
     "output_type": "execute_result"
    }
   ],
   "source": [
    "sorted(decepticons, key = len, reverse = True)"
   ]
  },
  {
   "cell_type": "code",
   "execution_count": 1,
   "metadata": {},
   "outputs": [
    {
     "name": "stdout",
     "output_type": "stream",
     "text": [
      "4\n"
     ]
    }
   ],
   "source": [
    "list_=[4,10,14,19]\n",
    "print(min(list_))"
   ]
  },
  {
   "cell_type": "markdown",
   "metadata": {},
   "source": [
    "**Reversing order** of a list: **`.reverse()` METHOD** MUTATING"
   ]
  },
  {
   "cell_type": "code",
   "execution_count": 47,
   "metadata": {},
   "outputs": [
    {
     "data": {
      "text/plain": [
       "['Thrust',\n",
       " 'Skywarp',\n",
       " 'Shockwave',\n",
       " 'Scrapper',\n",
       " 'Mixmaster',\n",
       " 'Megatron',\n",
       " 'Longhaul',\n",
       " 'Hook',\n",
       " 'Bonecrusher']"
      ]
     },
     "execution_count": 47,
     "metadata": {},
     "output_type": "execute_result"
    }
   ],
   "source": [
    "#decepticons.reverse()\n",
    "decepticons"
   ]
  },
  {
   "cell_type": "markdown",
   "metadata": {},
   "source": [
    "###### <p><a name=\"listsiterations\"></a></p>\n",
    "**Iterating** through list contents: **`iter()`** and **`next()`** FUNCTIONS\n",
    "```Python\n",
    "    iter()\n",
    "    next()\n",
    "    ```\n",
    "Can be used for ANY iterable (like dictionaries, tuples) not just lists!"
   ]
  },
  {
   "cell_type": "code",
   "execution_count": 49,
   "metadata": {},
   "outputs": [
    {
     "data": {
      "text/plain": [
       "'Optimus Prime'"
      ]
     },
     "execution_count": 49,
     "metadata": {},
     "output_type": "execute_result"
    }
   ],
   "source": [
    "autobots = ['Optimus Prime','Grimlock','Omega Supreme','Jazz','Cosmos']\n",
    "iter_autobot = iter(autobots)"
   ]
  },
  {
   "cell_type": "code",
   "execution_count": 51,
   "metadata": {},
   "outputs": [
    {
     "data": {
      "text/plain": [
       "'Omega Supreme'"
      ]
     },
     "execution_count": 51,
     "metadata": {},
     "output_type": "execute_result"
    }
   ],
   "source": [
    "next(iter_autobot)"
   ]
  },
  {
   "cell_type": "code",
   "execution_count": 52,
   "metadata": {},
   "outputs": [
    {
     "data": {
      "text/plain": [
       "['Jazz', 'Cosmos']"
      ]
     },
     "execution_count": 52,
     "metadata": {},
     "output_type": "execute_result"
    }
   ],
   "source": [
    "list(iter_autobot) #returns the remaining items that have NOT been iterated yet as a list!"
   ]
  },
  {
   "cell_type": "markdown",
   "metadata": {},
   "source": [
    "###### <p><a name=\"listsmap\"></a></p>\n",
    "**Applying a function** through list contents: **`map()`**\n",
    "```Python\n",
    "    map(function,list)\n",
    "    ```\n",
    "Applies the function to every element in the list"
   ]
  },
  {
   "cell_type": "code",
   "execution_count": 53,
   "metadata": {},
   "outputs": [
    {
     "data": {
      "text/plain": [
       "[11, 9, 9, 8, 7, 10, 3, 10, 6]"
      ]
     },
     "execution_count": 53,
     "metadata": {},
     "output_type": "execute_result"
    }
   ],
   "source": [
    "decept_power = [10,8,8,7,6,9,2,9,5]\n",
    "list(map(lambda x: x + 1,decept_power))"
   ]
  },
  {
   "cell_type": "code",
   "execution_count": 9,
   "metadata": {},
   "outputs": [
    {
     "data": {
      "text/plain": [
       "[1, 3]"
      ]
     },
     "execution_count": 9,
     "metadata": {},
     "output_type": "execute_result"
    }
   ],
   "source": [
    "#using map with more than 2 lists\n",
    "list(map(lambda x, y: x[y], [[1, 2], [2, 3]], [0, 1]))"
   ]
  },
  {
   "cell_type": "code",
   "execution_count": 82,
   "metadata": {},
   "outputs": [
    {
     "data": {
      "text/plain": [
       "[930, 20467, 505, 3784, 3685]"
      ]
     },
     "execution_count": 82,
     "metadata": {},
     "output_type": "execute_result"
    }
   ],
   "source": [
    "#using map with zipped lists\n",
    "f1 = [93,97,101,43,55]\n",
    "f2 = [10,211,5,88,67]\n",
    "#here the zipped list is indexed into using z, so each element in tupple z[0] is multiplied\n",
    "#by each element in tupple z[1]\n",
    "list(map(lambda z: z[0]*z[1],zip(f1,f2)))"
   ]
  },
  {
   "cell_type": "markdown",
   "metadata": {},
   "source": [
    "###### <p><a name=\"listsfilter\"></a></p>\n",
    "**Filtering** a list by some condition: **`filter()`**\n",
    "```Python\n",
    "    filter(condition,list)\n",
    "    ```\n",
    "Filters the whole list according to some condition."
   ]
  },
  {
   "cell_type": "code",
   "execution_count": 68,
   "metadata": {},
   "outputs": [
    {
     "data": {
      "text/plain": [
       "[10, 9, 9]"
      ]
     },
     "execution_count": 68,
     "metadata": {},
     "output_type": "execute_result"
    }
   ],
   "source": [
    "list(filter(lambda x: x > 8, decept_power))"
   ]
  },
  {
   "cell_type": "markdown",
   "metadata": {},
   "source": [
    "Combined with **`map()`** to perform an operation on every element of a filtered list:"
   ]
  },
  {
   "cell_type": "code",
   "execution_count": 69,
   "metadata": {},
   "outputs": [
    {
     "data": {
      "text/plain": [
       "[13, 12, 12]"
      ]
     },
     "execution_count": 69,
     "metadata": {},
     "output_type": "execute_result"
    }
   ],
   "source": [
    "list(map(lambda x: x+3,filter(lambda x: x > 8, decept_power)))"
   ]
  },
  {
   "cell_type": "markdown",
   "metadata": {},
   "source": [
    "using `filter()` to remove lists that just have empty strings as some of the elements:"
   ]
  },
  {
   "cell_type": "code",
   "execution_count": 70,
   "metadata": {},
   "outputs": [
    {
     "data": {
      "text/plain": [
       "['value1', 'value2', 'value3', 'value4']"
      ]
     },
     "execution_count": 70,
     "metadata": {},
     "output_type": "execute_result"
    }
   ],
   "source": [
    "messy_list = ['value1    ','', 'value2      ','','','value3      ','     value4   ']\n",
    "list(filter(lambda s: s != '',list(map(lambda s: s.strip(),messy_list))))"
   ]
  },
  {
   "cell_type": "markdown",
   "metadata": {},
   "source": [
    "###### <p><a name=\"strings\"></a></p>\n",
    "### String Operations and Functions"
   ]
  },
  {
   "cell_type": "markdown",
   "metadata": {},
   "source": [
    "###### <p><a name=\"stringfind\"></a></p>\n",
    "**Finding a substring** when using the `.find()` method."
   ]
  },
  {
   "cell_type": "code",
   "execution_count": 1,
   "metadata": {},
   "outputs": [
    {
     "data": {
      "text/plain": [
       "4"
      ]
     },
     "execution_count": 1,
     "metadata": {},
     "output_type": "execute_result"
    }
   ],
   "source": [
    "'Overlord'.find('lord')"
   ]
  },
  {
   "cell_type": "code",
   "execution_count": 5,
   "metadata": {},
   "outputs": [
    {
     "data": {
      "text/plain": [
       "6"
      ]
     },
     "execution_count": 5,
     "metadata": {},
     "output_type": "execute_result"
    }
   ],
   "source": [
    "'Black Zarak'.find('Zarak', 4)"
   ]
  },
  {
   "cell_type": "markdown",
   "metadata": {},
   "source": [
    "###### <p><a name=\"stringescapes\"></a></p>\n",
    "**Creating spaces** when using the `print()` call."
   ]
  },
  {
   "cell_type": "code",
   "execution_count": 7,
   "metadata": {},
   "outputs": [
    {
     "name": "stdout",
     "output_type": "stream",
     "text": [
      "Zeta Prime\tSentinel Prime\tOptimus Prime\tRodimus Prime\n",
      "Zeta Prime\n",
      "Sentinel Prime\n",
      "Optimus Prime\n",
      "Rodimus Prime\n"
     ]
    }
   ],
   "source": [
    "print('Zeta Prime','Sentinel Prime', 'Optimus Prime', 'Rodimus Prime', sep = '\\t') #tab space\n",
    "print('Zeta Prime','Sentinel Prime', 'Optimus Prime', 'Rodimus Prime', sep = '\\n') #newline"
   ]
  },
  {
   "cell_type": "markdown",
   "metadata": {},
   "source": [
    "**Declaring a raw string** to avoid confusing \\ with escape characters"
   ]
  },
  {
   "cell_type": "code",
   "execution_count": 9,
   "metadata": {},
   "outputs": [
    {
     "name": "stdout",
     "output_type": "stream",
     "text": [
      "C:\\Documents\\Emanuel\n"
     ]
    }
   ],
   "source": [
    "print(r'C:\\Documents\\Emanuel')"
   ]
  },
  {
   "cell_type": "markdown",
   "metadata": {},
   "source": [
    "###### <p><a name=\"stringlist\"></a></p>\n",
    "**Convert a string to a list** of single-character strings using the function **`list()`**:"
   ]
  },
  {
   "cell_type": "code",
   "execution_count": 25,
   "metadata": {},
   "outputs": [
    {
     "data": {
      "text/plain": [
       "['A', 'u', 't', 'o', 'b', 'o', 't', 's']"
      ]
     },
     "execution_count": 25,
     "metadata": {},
     "output_type": "execute_result"
    }
   ],
   "source": [
    "list('Autobots')"
   ]
  },
  {
   "cell_type": "markdown",
   "metadata": {},
   "source": [
    "###### <p><a name=\"stringlist\"></a></p>\n",
    "**Convert a string to a list** of single-character strings using the function **`split()`**:"
   ]
  },
  {
   "cell_type": "code",
   "execution_count": 1,
   "metadata": {},
   "outputs": [
    {
     "data": {
      "text/plain": [
       "['Soundwave', 'Thundercracker', 'Starscream and Skywarp', 'attack']"
      ]
     },
     "execution_count": 1,
     "metadata": {},
     "output_type": "execute_result"
    }
   ],
   "source": [
    "d = 'Soundwave, Thundercracker, Starscream and Skywarp, attack'\n",
    "d.split(', ')"
   ]
  },
  {
   "cell_type": "markdown",
   "metadata": {},
   "source": [
    "**Convert a list** to a **string** using **`join(list)`**:\n",
    "```Python\n",
    "    \"\".join(list) #double quotes mean empty string\n",
    "```"
   ]
  },
  {
   "cell_type": "code",
   "execution_count": 26,
   "metadata": {},
   "outputs": [
    {
     "data": {
      "text/plain": [
       "'Autobots'"
      ]
     },
     "execution_count": 26,
     "metadata": {},
     "output_type": "execute_result"
    }
   ],
   "source": [
    "\"\".join(['A', 'u', 't', 'o', 'b', 'o', 't', 's'])"
   ]
  },
  {
   "cell_type": "markdown",
   "metadata": {},
   "source": [
    "###### <p><a name=\"stringjoin\"></a></p>\n",
    "**Combining strings** with **`join()`**\n",
    "```Python\n",
    "    .join(list of strings):\n",
    "```\n",
    "Recall that join needs a list passed in."
   ]
  },
  {
   "cell_type": "code",
   "execution_count": 27,
   "metadata": {},
   "outputs": [
    {
     "name": "stdout",
     "output_type": "stream",
     "text": [
      "Orion Pax Optimus Prime\n",
      "Orion PaxOptimus Prime\n",
      "Orion PaxAlpha TrionOptimus Prime\n"
     ]
    }
   ],
   "source": [
    "print(' '.join(['Orion Pax', 'Optimus Prime'])) #with a space\n",
    "print(''.join(['Orion Pax', 'Optimus Prime'])) #no space\n",
    "print('Alpha Trion'.join(['Orion Pax', 'Optimus Prime'])) #this will append the join calls to\n",
    "                                                          #the Alpha Trion string object."
   ]
  },
  {
   "cell_type": "code",
   "execution_count": 28,
   "metadata": {},
   "outputs": [
    {
     "name": "stdout",
     "output_type": "stream",
     "text": [
      "Zeta Prime Sentinel Prime Optimus Prime Rodimus Prime\n",
      "Autobots wage their battle to destroy the Decepticons\n",
      "Zeta Prime, Sentinel Prime, Optimus Prime, Rodimus Prime\n"
     ]
    }
   ],
   "source": [
    "primes = ['Zeta Prime','Sentinel Prime', 'Optimus Prime', 'Rodimus Prime']\n",
    "print(' '.join(primes))\n",
    "slogan = ['Autobots','wage','their','battle','to','destroy','the','Decepticons']\n",
    "print(' '.join(slogan))\n",
    "print(', '.join(primes))"
   ]
  },
  {
   "cell_type": "markdown",
   "metadata": {},
   "source": [
    "###### <p><a name=\"stringstrip\"></a></p>\n",
    "**Stripping out spaces** with `.strip()`\n",
    "```Python\n",
    "    .strip(string):\n",
    "```"
   ]
  },
  {
   "cell_type": "code",
   "execution_count": 29,
   "metadata": {},
   "outputs": [],
   "source": [
    "s = '    Too     many      spaces   .'"
   ]
  },
  {
   "cell_type": "markdown",
   "metadata": {},
   "source": [
    "###### <p><a name=\"stringreplace\"></a></p>\n",
    "**replacing strings** with `.replace()`\n",
    "```Python\n",
    "    .replace(old,new):\n",
    "```"
   ]
  },
  {
   "cell_type": "markdown",
   "metadata": {},
   "source": [
    "###### <p><a name=\"prefix\"></a></p>\n",
    "**Adding a prefix or suffix** with `%`\n",
    "```Python\n",
    "    ['prefix_%s' % column for column in columnlist]:\n",
    "```"
   ]
  },
  {
   "cell_type": "code",
   "execution_count": 1,
   "metadata": {},
   "outputs": [],
   "source": [
    "gm_columns = ['ds',\n",
    " 'trend',\n",
    " 'yhat_lower',\n",
    " 'yhat_upper',\n",
    " 'trend_lower',\n",
    " 'trend_upper',\n",
    " 'additive_terms',\n",
    " 'additive_terms_lower',\n",
    " 'additive_terms_upper',\n",
    " 'weekly',\n",
    " 'weekly_lower',\n",
    " 'weekly_upper',\n",
    " 'yearly',\n",
    " 'yearly_lower',\n",
    " 'yearly_upper',\n",
    " 'multiplicative_terms',\n",
    " 'multiplicative_terms_lower',\n",
    " 'multiplicative_terms_upper',\n",
    " 'yhat']"
   ]
  },
  {
   "cell_type": "code",
   "execution_count": 5,
   "metadata": {},
   "outputs": [
    {
     "data": {
      "text/plain": [
       "['gm_ds', 'gm_trend', 'gm_yhat_lower', 'gm_yhat_upper', 'gm_trend_lower']"
      ]
     },
     "execution_count": 5,
     "metadata": {},
     "output_type": "execute_result"
    }
   ],
   "source": [
    "gm_prefix = ['gm_%s' % column for column in gm_columns]\n",
    "gm_prefix[:5]"
   ]
  },
  {
   "cell_type": "code",
   "execution_count": 6,
   "metadata": {},
   "outputs": [
    {
     "data": {
      "text/plain": [
       "['ds_gm', 'trend_gm', 'yhat_lower_gm', 'yhat_upper_gm', 'trend_lower_gm']"
      ]
     },
     "execution_count": 6,
     "metadata": {},
     "output_type": "execute_result"
    }
   ],
   "source": [
    "gm_suffix = ['%s_gm' % column for column in gm_columns]\n",
    "gm_suffix[:5]"
   ]
  },
  {
   "cell_type": "markdown",
   "metadata": {},
   "source": [
    "###### <p><a name=\"loops\"></a></p>\n",
    "### FOR and WHILE Loops"
   ]
  },
  {
   "cell_type": "markdown",
   "metadata": {},
   "source": [
    "###### <p><a name=\"for\"></a></p>\n",
    "Functions to use in tandem with a for loop."
   ]
  },
  {
   "cell_type": "markdown",
   "metadata": {},
   "source": [
    "###### <p><a name=\"enumerate\"></a></p>\n",
    "Return a tuple of **index and value** with `enumerate()`\n",
    "```Python\n",
    "    enumerate(list_ or dataframe series):\n",
    "```"
   ]
  },
  {
   "cell_type": "code",
   "execution_count": 1,
   "metadata": {},
   "outputs": [
    {
     "name": "stdout",
     "output_type": "stream",
     "text": [
      "0 Metroplex\n",
      "1 Fortress Maximus\n",
      "2 Trypticon\n",
      "3 Omega Supreme\n",
      "4 Scorponok\n"
     ]
    }
   ],
   "source": [
    "titans = ['Metroplex', 'Fortress Maximus', 'Trypticon', 'Omega Supreme', 'Scorponok']\n",
    "for i, e in enumerate(titans): #gives position, and then element at that position.\n",
    "    print(i, e)"
   ]
  },
  {
   "cell_type": "code",
   "execution_count": 2,
   "metadata": {},
   "outputs": [
    {
     "name": "stdout",
     "output_type": "stream",
     "text": [
      "0 Metroplex\n",
      "1 Fortress Maximus\n",
      "2 Trypticon\n",
      "3 Omega Supreme\n",
      "4 Scorponok\n"
     ]
    }
   ],
   "source": [
    "for x in enumerate(titans): #gives position, and then element at that position.\n",
    "    print(x[0], x[1]) #name of x isn't as meaningful, but this has the same result"
   ]
  },
  {
   "cell_type": "code",
   "execution_count": 3,
   "metadata": {},
   "outputs": [
    {
     "data": {
      "text/plain": [
       "[(0, 'Metroplex'),\n",
       " (1, 'Fortress Maximus'),\n",
       " (2, 'Trypticon'),\n",
       " (3, 'Omega Supreme'),\n",
       " (4, 'Scorponok')]"
      ]
     },
     "execution_count": 3,
     "metadata": {},
     "output_type": "execute_result"
    }
   ],
   "source": [
    "#return a list of the tuples.\n",
    "list(enumerate(titans))"
   ]
  },
  {
   "cell_type": "markdown",
   "metadata": {},
   "source": [
    "Used in connjunction with a dataframe series to iterate throught the series, using the index\n",
    "provided by enumerate at as the series/row index. Use iloc!!!!"
   ]
  },
  {
   "cell_type": "code",
   "execution_count": null,
   "metadata": {},
   "outputs": [],
   "source": [
    "columns = list(tesla.columns)\n",
    "cap_pos = columns.index('mkt_cap')\n",
    "close_pos = columns.index('Adj. Close')\n",
    "for i, year in enumerate(tesla['Year']): #enumerate will return the year in the row index of interest.\n",
    "#for the given year in the specified row, lookup the cells in the dictionary and assign the corresponding share values.    \n",
    "    shares = TSLA_shares.get(year)\n",
    "    tesla.iloc[i,cap_pos] = shares * tesla.iloc[i,close_pos]"
   ]
  },
  {
   "cell_type": "markdown",
   "metadata": {},
   "source": [
    "###### <p><a name=\"numpy\"></a></p>\n",
    "## Numpy"
   ]
  },
  {
   "cell_type": "markdown",
   "metadata": {},
   "source": [
    "###### <p><a name=\"Random\"></a></p>\n",
    "### Random Generators"
   ]
  },
  {
   "cell_type": "markdown",
   "metadata": {},
   "source": [
    "**Random Number Generators** random sampling using **`random.choice()`**\n",
    "```Python\n",
    "    np.random.choice(int or array type,size,replace = True)\n",
    "    ```\n",
    "Selects numbers from the array type (or if an int is passed, the int is cast into arange(int))\n",
    "and returns the selection in the form of 'size.' replace = False if I do NOT want replacement."
   ]
  },
  {
   "cell_type": "code",
   "execution_count": 1,
   "metadata": {},
   "outputs": [],
   "source": [
    "import numpy as np"
   ]
  },
  {
   "cell_type": "code",
   "execution_count": 7,
   "metadata": {},
   "outputs": [
    {
     "data": {
      "text/plain": [
       "0"
      ]
     },
     "execution_count": 7,
     "metadata": {},
     "output_type": "execute_result"
    }
   ],
   "source": [
    "np.random.choice(3,size = None, replace = False)"
   ]
  },
  {
   "cell_type": "code",
   "execution_count": 106,
   "metadata": {},
   "outputs": [
    {
     "data": {
      "text/plain": [
       "array([25745, 25473, 73924, 15800, 15928, 37378, 17360])"
      ]
     },
     "execution_count": 106,
     "metadata": {},
     "output_type": "execute_result"
    }
   ],
   "source": [
    "np.random.choice(range(10000,99999), size = 7, replace = False)"
   ]
  },
  {
   "cell_type": "markdown",
   "metadata": {},
   "source": [
    "**Standard Normal Distribution** random sampling using **`random.randn()`**\n",
    "```Python\n",
    "    np.random.randn(dimension0, dimension1, dimesion2, dimeonsionN)\n",
    "    ```\n",
    "gives floats from a **standard normal/Gaussian** distribution (of mean 0 and variance 1), of the provided dimensions"
   ]
  },
  {
   "cell_type": "code",
   "execution_count": 4,
   "metadata": {},
   "outputs": [
    {
     "name": "stdout",
     "output_type": "stream",
     "text": [
      "[ 0.26508491  0.5691604  -2.08971275 -0.30662213  2.6151798  -0.57662711\n",
      "  1.03056508 -1.60620426  0.0376363   0.30862052]\n"
     ]
    },
    {
     "data": {
      "text/plain": [
       "(10,)"
      ]
     },
     "execution_count": 4,
     "metadata": {},
     "output_type": "execute_result"
    }
   ],
   "source": [
    "a = np.random.randn(10)\n",
    "print(a)\n",
    "a.shape"
   ]
  },
  {
   "cell_type": "code",
   "execution_count": 108,
   "metadata": {},
   "outputs": [
    {
     "data": {
      "text/plain": [
       "array([[-0.55785498,  0.77138124],\n",
       "       [ 0.09456126, -1.7406014 ],\n",
       "       [-0.37980837,  1.83938546]])"
      ]
     },
     "execution_count": 108,
     "metadata": {},
     "output_type": "execute_result"
    }
   ],
   "source": [
    "np.random.randn(3,2)"
   ]
  },
  {
   "cell_type": "code",
   "execution_count": 5,
   "metadata": {},
   "outputs": [
    {
     "data": {
      "text/plain": [
       "array([[-0.37333746, -1.89273096],\n",
       "       [ 0.0675416 ,  0.28361577],\n",
       "       [ 0.24800602,  1.32341884],\n",
       "       [-1.54685508, -2.93272528]])"
      ]
     },
     "execution_count": 5,
     "metadata": {},
     "output_type": "execute_result"
    }
   ],
   "source": [
    "np.random.randn(4,2)"
   ]
  },
  {
   "cell_type": "markdown",
   "metadata": {},
   "source": [
    "**Uniform [0,1] Distribution** random sampling from **`random.rand()`**\n",
    "```Python\n",
    "    np.random.rand(dimension0, dimension1, dimesion2, dimeonsionn)\n",
    "    ```\n",
    "gives floats from a **uniform** distribution from 0 to 1, of the provided dimensions"
   ]
  },
  {
   "cell_type": "code",
   "execution_count": 110,
   "metadata": {},
   "outputs": [
    {
     "data": {
      "text/plain": [
       "array([[0.10179232, 0.30732347],\n",
       "       [0.5074515 , 0.84870062],\n",
       "       [0.80980983, 0.26996448]])"
      ]
     },
     "execution_count": 110,
     "metadata": {},
     "output_type": "execute_result"
    }
   ],
   "source": [
    "np.random.rand(3,2)"
   ]
  },
  {
   "cell_type": "code",
   "execution_count": 15,
   "metadata": {},
   "outputs": [
    {
     "data": {
      "text/plain": [
       "array([0.03529908, 0.65505208, 0.99393536, 0.52434808, 0.81324903,\n",
       "       0.5750699 , 0.34892303, 0.43407095, 0.00500782, 0.79429364])"
      ]
     },
     "execution_count": 15,
     "metadata": {},
     "output_type": "execute_result"
    }
   ],
   "source": [
    "np.random.rand(10) #flat array"
   ]
  },
  {
   "cell_type": "code",
   "execution_count": 23,
   "metadata": {},
   "outputs": [
    {
     "name": "stdout",
     "output_type": "stream",
     "text": [
      "<class 'numpy.ndarray'>\n"
     ]
    },
    {
     "data": {
      "text/plain": [
       "numpy.ndarray"
      ]
     },
     "execution_count": 23,
     "metadata": {},
     "output_type": "execute_result"
    }
   ],
   "source": [
    "#X = np.random.rand(10)\n",
    "print(type(X))\n",
    "#print(X)\n",
    "sorted(X)\n",
    "#X = np.array(sorted(X))\n",
    "#print(type(X))\n",
    "type(X)"
   ]
  },
  {
   "cell_type": "markdown",
   "metadata": {},
   "source": [
    "**Specified Range** random sampling using **`random.randrange()`** \n",
    "```Python\n",
    "    random.randrange(start, stop, step)\n",
    "    ```\n",
    "gives integer from a list of the provided ranges."
   ]
  },
  {
   "cell_type": "code",
   "execution_count": 24,
   "metadata": {},
   "outputs": [
    {
     "name": "stdout",
     "output_type": "stream",
     "text": [
      "[0, 6, 1, 2, 2] 5\n",
      "[1, 6, 2, 4, 4, 1, 3, 2, 1, 1] 10\n",
      "[4, 6, 6, 9, 2, 4, 4, 9, 6, 0, 7, 0, 8, 6, 5] 15\n",
      "[5, 1, 8, 9, 6, 1, 1, 0, 9, 6, 3, 3, 2, 3, 4, 3, 3, 2, 1, 5] 20\n",
      "[3, 7, 4, 9, 4, 8, 4, 7, 3, 1, 3, 3, 8, 1, 7, 5, 4, 0, 4, 2, 4, 6, 4, 5, 3] 25\n"
     ]
    }
   ],
   "source": [
    "from random import randrange\n",
    "for listSize in range(5,26,5):\n",
    "    mylist = [randrange(10) for x in range(listSize)]\n",
    "    print(mylist, len(mylist))"
   ]
  },
  {
   "cell_type": "code",
   "execution_count": 9,
   "metadata": {},
   "outputs": [
    {
     "data": {
      "text/plain": [
       "[2, 2, 8, 3, 2]"
      ]
     },
     "execution_count": 9,
     "metadata": {},
     "output_type": "execute_result"
    }
   ],
   "source": [
    "[randrange(10) for x in range(5)]"
   ]
  },
  {
   "cell_type": "code",
   "execution_count": 20,
   "metadata": {},
   "outputs": [
    {
     "data": {
      "text/plain": [
       "15"
      ]
     },
     "execution_count": 20,
     "metadata": {},
     "output_type": "execute_result"
    }
   ],
   "source": [
    "randrange(5,26,5)"
   ]
  },
  {
   "cell_type": "markdown",
   "metadata": {},
   "source": [
    "++++++++++++++**PLACEHOLDER TITLE BAR FOR OTHER FUNCTIONS** ++++++++++++++"
   ]
  },
  {
   "cell_type": "markdown",
   "metadata": {},
   "source": [
    "Create a new array **fillled with ones (1s)** with `np.ones()`\n",
    "```Python\n",
    "   np.ones(shape:(2,3) or just 2, dtype, row_major(C) or column_major(F) in memory)\n",
    "    ```"
   ]
  },
  {
   "cell_type": "code",
   "execution_count": 5,
   "metadata": {},
   "outputs": [
    {
     "data": {
      "text/plain": [
       "array([[1., 1., 1., 1.],\n",
       "       [1., 1., 1., 1.],\n",
       "       [1., 1., 1., 1.],\n",
       "       [1., 1., 1., 1.],\n",
       "       [1., 1., 1., 1.]])"
      ]
     },
     "execution_count": 5,
     "metadata": {},
     "output_type": "execute_result"
    }
   ],
   "source": [
    "np.ones((5,4),float)"
   ]
  },
  {
   "cell_type": "code",
   "execution_count": 17,
   "metadata": {},
   "outputs": [
    {
     "name": "stdout",
     "output_type": "stream",
     "text": [
      "[[1. 1.]\n",
      " [1. 1.]\n",
      " [1. 1.]\n",
      " [1. 1.]\n",
      " [1. 1.]\n",
      " [1. 1.]]\n"
     ]
    }
   ],
   "source": [
    "ones = np.ones((6,2))\n",
    "print(ones)"
   ]
  },
  {
   "cell_type": "markdown",
   "metadata": {},
   "source": [
    "Create a new array **fillled with zeros (0s)** with `np.zeros_like()`\n",
    "```Python\n",
    "   np.zeros_like(existing ndimensional array)\n",
    "    ```"
   ]
  },
  {
   "cell_type": "code",
   "execution_count": 16,
   "metadata": {},
   "outputs": [
    {
     "data": {
      "text/plain": [
       "array([[0., 0.],\n",
       "       [0., 0.],\n",
       "       [0., 0.],\n",
       "       [0., 0.],\n",
       "       [0., 0.],\n",
       "       [0., 0.]])"
      ]
     },
     "execution_count": 16,
     "metadata": {},
     "output_type": "execute_result"
    }
   ],
   "source": [
    "np.zeros_like(ones)"
   ]
  },
  {
   "cell_type": "markdown",
   "metadata": {},
   "source": [
    "**Append to an array** `np.append()`\n",
    "```Python\n",
    "   np.append(array,item)\n",
    "    ```"
   ]
  },
  {
   "cell_type": "code",
   "execution_count": 8,
   "metadata": {},
   "outputs": [],
   "source": [
    "testarray = np.random.randn(10)"
   ]
  },
  {
   "cell_type": "code",
   "execution_count": 9,
   "metadata": {},
   "outputs": [
    {
     "data": {
      "text/plain": [
       "array([ -1.026232  ,   0.63232232,   0.47562479,  -0.65869988,\n",
       "        -0.43056979,   0.74013052,  -0.63687727,  -0.43816709,\n",
       "         0.84109724,   0.49085495, 100.        ])"
      ]
     },
     "execution_count": 9,
     "metadata": {},
     "output_type": "execute_result"
    }
   ],
   "source": [
    "np.append(testarray,100)"
   ]
  },
  {
   "cell_type": "code",
   "execution_count": 10,
   "metadata": {},
   "outputs": [],
   "source": [
    "np.dot?"
   ]
  },
  {
   "cell_type": "code",
   "execution_count": 21,
   "metadata": {},
   "outputs": [
    {
     "data": {
      "text/plain": [
       "(2, 2)"
      ]
     },
     "execution_count": 21,
     "metadata": {},
     "output_type": "execute_result"
    }
   ],
   "source": [
    "a = [[1, 0], [0, 1]]\n",
    "a = np.array(a)\n",
    "a.shape"
   ]
  },
  {
   "cell_type": "markdown",
   "metadata": {},
   "source": [
    "###### <p><a name=\"numspace\"></a></p>\n",
    "### Arrays with numbers across a specified interval or distance"
   ]
  },
  {
   "cell_type": "markdown",
   "metadata": {},
   "source": [
    "**Even spaced numbers** an array of evenly spaced numbers generated by `np.linspace()`\n",
    "```Python\n",
    "   np.linspace(start,stop,num_samples)\n",
    "    ```"
   ]
  },
  {
   "cell_type": "code",
   "execution_count": 11,
   "metadata": {},
   "outputs": [
    {
     "data": {
      "text/plain": [
       "array([ 1.,  4.,  7., 10.])"
      ]
     },
     "execution_count": 11,
     "metadata": {},
     "output_type": "execute_result"
    }
   ],
   "source": [
    "np.linspace(1,10,4, axis = 0)"
   ]
  },
  {
   "cell_type": "code",
   "execution_count": 12,
   "metadata": {},
   "outputs": [
    {
     "data": {
      "text/plain": [
       "array([-5.        , -4.47368421, -3.94736842, -3.42105263, -2.89473684,\n",
       "       -2.36842105, -1.84210526, -1.31578947, -0.78947368, -0.26315789,\n",
       "        0.26315789,  0.78947368,  1.31578947,  1.84210526,  2.36842105,\n",
       "        2.89473684,  3.42105263,  3.94736842,  4.47368421,  5.        ])"
      ]
     },
     "execution_count": 12,
     "metadata": {},
     "output_type": "execute_result"
    }
   ],
   "source": [
    "np.linspace(-5,5,20)"
   ]
  },
  {
   "cell_type": "markdown",
   "metadata": {},
   "source": [
    "**Creating a DataFrame with Random Values** using random sampling to make a DataFrame"
   ]
  },
  {
   "cell_type": "code",
   "execution_count": 99,
   "metadata": {},
   "outputs": [],
   "source": [
    "import pandas as pd"
   ]
  },
  {
   "cell_type": "code",
   "execution_count": 111,
   "metadata": {},
   "outputs": [],
   "source": [
    "rand_generator = lambda min_,max_,size_: np.random.choice(range(min_,max_,),size = size_, replace = False)"
   ]
  },
  {
   "cell_type": "code",
   "execution_count": 113,
   "metadata": {},
   "outputs": [
    {
     "data": {
      "text/html": [
       "<div>\n",
       "<style scoped>\n",
       "    .dataframe tbody tr th:only-of-type {\n",
       "        vertical-align: middle;\n",
       "    }\n",
       "\n",
       "    .dataframe tbody tr th {\n",
       "        vertical-align: top;\n",
       "    }\n",
       "\n",
       "    .dataframe thead th {\n",
       "        text-align: right;\n",
       "    }\n",
       "</style>\n",
       "<table border=\"1\" class=\"dataframe\">\n",
       "  <thead>\n",
       "    <tr style=\"text-align: right;\">\n",
       "      <th></th>\n",
       "      <th>Facebook_ID</th>\n",
       "      <th>action_ID</th>\n",
       "      <th>type</th>\n",
       "    </tr>\n",
       "  </thead>\n",
       "  <tbody>\n",
       "    <tr>\n",
       "      <th>0</th>\n",
       "      <td>15760</td>\n",
       "      <td>682</td>\n",
       "      <td>Photo</td>\n",
       "    </tr>\n",
       "    <tr>\n",
       "      <th>1</th>\n",
       "      <td>51971</td>\n",
       "      <td>323</td>\n",
       "      <td>Photo</td>\n",
       "    </tr>\n",
       "    <tr>\n",
       "      <th>2</th>\n",
       "      <td>44053</td>\n",
       "      <td>5501</td>\n",
       "      <td>Post</td>\n",
       "    </tr>\n",
       "    <tr>\n",
       "      <th>3</th>\n",
       "      <td>64467</td>\n",
       "      <td>6472</td>\n",
       "      <td>Post</td>\n",
       "    </tr>\n",
       "    <tr>\n",
       "      <th>4</th>\n",
       "      <td>45663</td>\n",
       "      <td>936</td>\n",
       "      <td>Comment</td>\n",
       "    </tr>\n",
       "    <tr>\n",
       "      <th>5</th>\n",
       "      <td>30852</td>\n",
       "      <td>1872</td>\n",
       "      <td>Share</td>\n",
       "    </tr>\n",
       "    <tr>\n",
       "      <th>6</th>\n",
       "      <td>68974</td>\n",
       "      <td>1382</td>\n",
       "      <td>Share</td>\n",
       "    </tr>\n",
       "  </tbody>\n",
       "</table>\n",
       "</div>"
      ],
      "text/plain": [
       "   Facebook_ID  action_ID     type\n",
       "0        15760        682    Photo\n",
       "1        51971        323    Photo\n",
       "2        44053       5501     Post\n",
       "3        64467       6472     Post\n",
       "4        45663        936  Comment\n",
       "5        30852       1872    Share\n",
       "6        68974       1382    Share"
      ]
     },
     "execution_count": 113,
     "metadata": {},
     "output_type": "execute_result"
    }
   ],
   "source": [
    "data = pd.DataFrame({'Facebook_ID':list(rand_generator(10000,99999,7)),\\\n",
    "                     'action_ID':list(rand_generator(100,9999,7)),\\\n",
    "                     'type': random.choices(['Post','Comment','Photo','Share'], k =7)})\n",
    "data"
   ]
  },
  {
   "cell_type": "code",
   "execution_count": 115,
   "metadata": {},
   "outputs": [
    {
     "data": {
      "text/html": [
       "<div>\n",
       "<style scoped>\n",
       "    .dataframe tbody tr th:only-of-type {\n",
       "        vertical-align: middle;\n",
       "    }\n",
       "\n",
       "    .dataframe tbody tr th {\n",
       "        vertical-align: top;\n",
       "    }\n",
       "\n",
       "    .dataframe thead th {\n",
       "        text-align: right;\n",
       "    }\n",
       "</style>\n",
       "<table border=\"1\" class=\"dataframe\">\n",
       "  <thead>\n",
       "    <tr style=\"text-align: right;\">\n",
       "      <th></th>\n",
       "      <th>Facebook_ID</th>\n",
       "      <th>action_ID</th>\n",
       "      <th>type</th>\n",
       "      <th>referred_ID</th>\n",
       "    </tr>\n",
       "  </thead>\n",
       "  <tbody>\n",
       "    <tr>\n",
       "      <th>0</th>\n",
       "      <td>15760</td>\n",
       "      <td>682</td>\n",
       "      <td>Photo</td>\n",
       "      <td>555</td>\n",
       "    </tr>\n",
       "    <tr>\n",
       "      <th>1</th>\n",
       "      <td>51971</td>\n",
       "      <td>323</td>\n",
       "      <td>Photo</td>\n",
       "      <td>898</td>\n",
       "    </tr>\n",
       "    <tr>\n",
       "      <th>2</th>\n",
       "      <td>44053</td>\n",
       "      <td>5501</td>\n",
       "      <td>Post</td>\n",
       "      <td>3453</td>\n",
       "    </tr>\n",
       "    <tr>\n",
       "      <th>3</th>\n",
       "      <td>64467</td>\n",
       "      <td>6472</td>\n",
       "      <td>Post</td>\n",
       "      <td>2215</td>\n",
       "    </tr>\n",
       "    <tr>\n",
       "      <th>4</th>\n",
       "      <td>45663</td>\n",
       "      <td>936</td>\n",
       "      <td>Comment</td>\n",
       "      <td>5501</td>\n",
       "    </tr>\n",
       "    <tr>\n",
       "      <th>5</th>\n",
       "      <td>30852</td>\n",
       "      <td>1872</td>\n",
       "      <td>Share</td>\n",
       "      <td>234</td>\n",
       "    </tr>\n",
       "    <tr>\n",
       "      <th>6</th>\n",
       "      <td>68974</td>\n",
       "      <td>1382</td>\n",
       "      <td>Share</td>\n",
       "      <td>5501</td>\n",
       "    </tr>\n",
       "  </tbody>\n",
       "</table>\n",
       "</div>"
      ],
      "text/plain": [
       "   Facebook_ID  action_ID     type  referred_ID\n",
       "0        15760        682    Photo          555\n",
       "1        51971        323    Photo          898\n",
       "2        44053       5501     Post         3453\n",
       "3        64467       6472     Post         2215\n",
       "4        45663        936  Comment         5501\n",
       "5        30852       1872    Share          234\n",
       "6        68974       1382    Share         5501"
      ]
     },
     "execution_count": 115,
     "metadata": {},
     "output_type": "execute_result"
    }
   ],
   "source": [
    "data1 = pd.DataFrame({'referred_ID': [555,898,3453,2215,5501,234,5501]})\n",
    "data = pd.concat([data,data1], axis = 1, sort = False)\n",
    "data"
   ]
  },
  {
   "cell_type": "code",
   "execution_count": 100,
   "metadata": {},
   "outputs": [
    {
     "ename": "NameError",
     "evalue": "name 'sample' is not defined",
     "output_type": "error",
     "traceback": [
      "\u001b[0;31m---------------------------------------------------------------------------\u001b[0m",
      "\u001b[0;31mNameError\u001b[0m                                 Traceback (most recent call last)",
      "\u001b[0;32m<ipython-input-100-26d09a13a3fc>\u001b[0m in \u001b[0;36m<module>\u001b[0;34m\u001b[0m\n\u001b[0;32m----> 1\u001b[0;31m \u001b[0mhelp\u001b[0m\u001b[0;34m(\u001b[0m\u001b[0msample\u001b[0m\u001b[0;34m)\u001b[0m\u001b[0;34m\u001b[0m\u001b[0;34m\u001b[0m\u001b[0m\n\u001b[0m",
      "\u001b[0;31mNameError\u001b[0m: name 'sample' is not defined"
     ]
    }
   ],
   "source": [
    "help(sample)"
   ]
  },
  {
   "cell_type": "code",
   "execution_count": 85,
   "metadata": {},
   "outputs": [
    {
     "data": {
      "text/plain": [
       "['Lock',\n",
       " 'RandomState',\n",
       " '__RandomState_ctor',\n",
       " '__all__',\n",
       " '__builtins__',\n",
       " '__cached__',\n",
       " '__doc__',\n",
       " '__file__',\n",
       " '__loader__',\n",
       " '__name__',\n",
       " '__package__',\n",
       " '__path__',\n",
       " '__spec__',\n",
       " 'absolute_import',\n",
       " 'beta',\n",
       " 'binomial',\n",
       " 'bytes',\n",
       " 'chisquare',\n",
       " 'choice',\n",
       " 'dirichlet',\n",
       " 'division',\n",
       " 'exponential',\n",
       " 'f',\n",
       " 'gamma',\n",
       " 'geometric',\n",
       " 'get_state',\n",
       " 'gumbel',\n",
       " 'hypergeometric',\n",
       " 'laplace',\n",
       " 'logistic',\n",
       " 'lognormal',\n",
       " 'logseries',\n",
       " 'mtrand',\n",
       " 'multinomial',\n",
       " 'multivariate_normal',\n",
       " 'negative_binomial',\n",
       " 'noncentral_chisquare',\n",
       " 'noncentral_f',\n",
       " 'normal',\n",
       " 'np',\n",
       " 'operator',\n",
       " 'pareto',\n",
       " 'permutation',\n",
       " 'poisson',\n",
       " 'power',\n",
       " 'print_function',\n",
       " 'rand',\n",
       " 'randint',\n",
       " 'randn',\n",
       " 'random',\n",
       " 'random_integers',\n",
       " 'random_sample',\n",
       " 'ranf',\n",
       " 'rayleigh',\n",
       " 'sample',\n",
       " 'seed',\n",
       " 'set_state',\n",
       " 'shuffle',\n",
       " 'standard_cauchy',\n",
       " 'standard_exponential',\n",
       " 'standard_gamma',\n",
       " 'standard_normal',\n",
       " 'standard_t',\n",
       " 'test',\n",
       " 'triangular',\n",
       " 'uniform',\n",
       " 'vonmises',\n",
       " 'wald',\n",
       " 'warnings',\n",
       " 'weibull',\n",
       " 'zipf']"
      ]
     },
     "execution_count": 85,
     "metadata": {},
     "output_type": "execute_result"
    }
   ],
   "source": [
    "dir(np.random)"
   ]
  },
  {
   "cell_type": "code",
   "execution_count": 89,
   "metadata": {},
   "outputs": [
    {
     "data": {
      "text/plain": [
       "array([0, 1, 2])"
      ]
     },
     "execution_count": 89,
     "metadata": {},
     "output_type": "execute_result"
    }
   ],
   "source": [
    "np.arange(3)"
   ]
  },
  {
   "cell_type": "code",
   "execution_count": 109,
   "metadata": {},
   "outputs": [
    {
     "name": "stdout",
     "output_type": "stream",
     "text": [
      "Help on built-in function rand:\n",
      "\n",
      "rand(...) method of mtrand.RandomState instance\n",
      "    rand(d0, d1, ..., dn)\n",
      "    \n",
      "    Random values in a given shape.\n",
      "    \n",
      "    Create an array of the given shape and populate it with\n",
      "    random samples from a uniform distribution\n",
      "    over ``[0, 1)``.\n",
      "    \n",
      "    Parameters\n",
      "    ----------\n",
      "    d0, d1, ..., dn : int, optional\n",
      "        The dimensions of the returned array, should all be positive.\n",
      "        If no argument is given a single Python float is returned.\n",
      "    \n",
      "    Returns\n",
      "    -------\n",
      "    out : ndarray, shape ``(d0, d1, ..., dn)``\n",
      "        Random values.\n",
      "    \n",
      "    See Also\n",
      "    --------\n",
      "    random\n",
      "    \n",
      "    Notes\n",
      "    -----\n",
      "    This is a convenience function. If you want an interface that\n",
      "    takes a shape-tuple as the first argument, refer to\n",
      "    np.random.random_sample .\n",
      "    \n",
      "    Examples\n",
      "    --------\n",
      "    >>> np.random.rand(3,2)\n",
      "    array([[ 0.14022471,  0.96360618],  #random\n",
      "           [ 0.37601032,  0.25528411],  #random\n",
      "           [ 0.49313049,  0.94909878]]) #random\n",
      "\n"
     ]
    }
   ],
   "source": [
    "help(np.random.rand)"
   ]
  },
  {
   "cell_type": "code",
   "execution_count": null,
   "metadata": {},
   "outputs": [],
   "source": []
  },
  {
   "cell_type": "code",
   "execution_count": null,
   "metadata": {},
   "outputs": [],
   "source": []
  },
  {
   "cell_type": "code",
   "execution_count": 44,
   "metadata": {},
   "outputs": [
    {
     "name": "stdout",
     "output_type": "stream",
     "text": [
      "Help on built-in function sorted in module builtins:\n",
      "\n",
      "sorted(iterable, /, *, key=None, reverse=False)\n",
      "    Return a new list containing all items from the iterable in ascending order.\n",
      "    \n",
      "    A custom key function can be supplied to customize the sort order, and the\n",
      "    reverse flag can be set to request the result in descending order.\n",
      "\n"
     ]
    }
   ],
   "source": [
    "help(sorted)"
   ]
  },
  {
   "cell_type": "code",
   "execution_count": null,
   "metadata": {},
   "outputs": [],
   "source": []
  },
  {
   "cell_type": "code",
   "execution_count": null,
   "metadata": {},
   "outputs": [],
   "source": []
  },
  {
   "cell_type": "code",
   "execution_count": null,
   "metadata": {},
   "outputs": [],
   "source": []
  },
  {
   "cell_type": "code",
   "execution_count": null,
   "metadata": {},
   "outputs": [],
   "source": []
  },
  {
   "cell_type": "code",
   "execution_count": null,
   "metadata": {},
   "outputs": [],
   "source": []
  },
  {
   "cell_type": "code",
   "execution_count": null,
   "metadata": {},
   "outputs": [],
   "source": []
  },
  {
   "cell_type": "code",
   "execution_count": null,
   "metadata": {},
   "outputs": [],
   "source": []
  },
  {
   "cell_type": "code",
   "execution_count": null,
   "metadata": {},
   "outputs": [],
   "source": []
  },
  {
   "cell_type": "code",
   "execution_count": null,
   "metadata": {},
   "outputs": [],
   "source": []
  },
  {
   "cell_type": "code",
   "execution_count": null,
   "metadata": {},
   "outputs": [],
   "source": []
  },
  {
   "cell_type": "code",
   "execution_count": null,
   "metadata": {},
   "outputs": [],
   "source": []
  },
  {
   "cell_type": "code",
   "execution_count": null,
   "metadata": {},
   "outputs": [],
   "source": []
  },
  {
   "cell_type": "code",
   "execution_count": null,
   "metadata": {},
   "outputs": [],
   "source": []
  },
  {
   "cell_type": "code",
   "execution_count": null,
   "metadata": {},
   "outputs": [],
   "source": []
  },
  {
   "cell_type": "code",
   "execution_count": null,
   "metadata": {},
   "outputs": [],
   "source": []
  },
  {
   "cell_type": "code",
   "execution_count": null,
   "metadata": {},
   "outputs": [],
   "source": []
  },
  {
   "cell_type": "markdown",
   "metadata": {},
   "source": [
    "### <p><a name=\"machine learning\"></a></p>\n",
    "# II. Machine Learning"
   ]
  },
  {
   "cell_type": "code",
   "execution_count": null,
   "metadata": {},
   "outputs": [],
   "source": [
    "\n",
    "\n",
    "#Train test split\n",
    "X_train, X_test, y_train, y_test = ms.train_test_split(train, target, test_size=0.25, random_state = 917)"
   ]
  },
  {
   "cell_type": "markdown",
   "metadata": {},
   "source": [
    "### Vanilla Ridge"
   ]
  },
  {
   "cell_type": "code",
   "execution_count": null,
   "metadata": {},
   "outputs": [],
   "source": [
    "ridge = linear_model.Ridge(normalize = False) #False\n",
    "ridge = ridge.set_params(random_state = 90)\n",
    "\n",
    "# Train vanilla model\n",
    "ridge.fit(X_train, y_train)"
   ]
  },
  {
   "cell_type": "code",
   "execution_count": null,
   "metadata": {},
   "outputs": [],
   "source": [
    "#getting a prediction using ridge, and then calculating RMSE by comparing test vs. prediction\n",
    "ridge_result = ridge.predict(X_test)\n",
    "\n",
    "#\n",
    "\n",
    "print('Mean Squared Error (MSE):', mean_squared_error(y_test, ridge_result))\n",
    "print('Root Mean Square Error (RMSE):', np.sqrt(mean_squared_error(y_test, ridge_result)))"
   ]
  },
  {
   "cell_type": "markdown",
   "metadata": {},
   "source": [
    "### Grid Search Ridge"
   ]
  },
  {
   "cell_type": "code",
   "execution_count": null,
   "metadata": {},
   "outputs": [],
   "source": [
    "parameters = {'alpha': np.linspace(0.1,100,200)}\n",
    "\n",
    "ridge = Ridge()\n",
    "ridge.set_params(normalize = False)\n",
    "ridge_model = ms.GridSearchCV(estimator = ridge, \n",
    "                              param_grid = parameters, \n",
    "                              scoring = 'neg_mean_squared_error', \n",
    "                              cv = 5, verbose = True, n_jobs = -1,\n",
    "                              return_train_score = True)\n",
    "ridge_model = ridge_model.fit(train,target) #ridge_model.fit(X_train,y_train)\n",
    "%time ridge_model"
   ]
  },
  {
   "cell_type": "code",
   "execution_count": null,
   "metadata": {},
   "outputs": [],
   "source": [
    "print(ridge_model.best_params_)"
   ]
  },
  {
   "cell_type": "code",
   "execution_count": null,
   "metadata": {},
   "outputs": [],
   "source": [
    "#save the best hyperparameters\n",
    "ridge_best = ridge_model.best_estimator_\n",
    "\n",
    "#fit using the best hyperparameters\n",
    "ridge_best.fit(train,target)\n",
    "\n",
    "#get the score using the best hyperparamters\n",
    "ridge_best.score(train,target)"
   ]
  }
 ],
 "metadata": {
  "kernelspec": {
   "display_name": "Python 3",
   "language": "python",
   "name": "python3"
  },
  "language_info": {
   "codemirror_mode": {
    "name": "ipython",
    "version": 3
   },
   "file_extension": ".py",
   "mimetype": "text/x-python",
   "name": "python",
   "nbconvert_exporter": "python",
   "pygments_lexer": "ipython3",
   "version": "3.7.4"
  }
 },
 "nbformat": 4,
 "nbformat_minor": 2
}
